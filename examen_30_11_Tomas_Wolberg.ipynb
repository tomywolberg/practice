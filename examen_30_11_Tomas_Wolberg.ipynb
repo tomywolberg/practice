{
 "cells": [
  {
   "cell_type": "markdown",
   "id": "983a545dd2eb214c",
   "metadata": {},
   "source": [
    "\n",
    "\n",
    "\n",
    "\n"
   ]
  },
  {
   "cell_type": "markdown",
   "id": "b9f1a4c99ab7e655",
   "metadata": {},
   "source": [
    "# Examen 2: POO\n",
    "fecha: 30/11/2023\n",
    "* El examen se aprueba con 60 puntos. Tienen hasta 11.15 am. \n",
    "* Entregar un solo archivo Jupyter con nombre y apellido.\n",
    "* Todas las consignas deben tener justificación con texto y explicación conceptual. No del código sino de la razón de la operación.\n",
    "\n",
    "Datasets:\n",
    "* conversion_para_entrenar.csv\n",
    "* ingreso_para_entrenar.csv\n",
    "* conversion_para_predecir.csv\n",
    "* costo_publicidad.csv\n",
    "* conversion_real.csv\n",
    "\n",
    "## Supermercado La gondola. Año 2092\n",
    " \n",
    "El supermercado la gondola es un líder en el sector minorista, atendiendo a clientes en el planeta tierra y con una sucursal en marte. Cuenta con una diversa gama de productos que incluye alimentación, tecnología, moda, entre otros. El supermercado posee toda su operacion de manera Holografica, por lo tanto es crucial predecir la conversión de los clientes dado su comportamiento. La idea será efectuar una campaña de marketing en aquello clientes que un algoritmo clasifique como compradores. Ahora bien dado que el costo de las publicidades holograficas es elevado, la empresa quiere solo publicitar en los clientes de alto valor. Para esto es importante generar una regresion que permita predecir el ingreso del cliente. \n",
    " \n",
    "Tu tarea como cientifico de datos es crear los dos algoritmos y luego calcular el rango de ganancia esperada de la propuesta, justificando tus servicios en el ROI del supermercado. \n",
    "\n",
    "\t\n"
   ]
  },
  {
   "cell_type": "markdown",
   "id": "ded58501353e208c",
   "metadata": {},
   "source": [
    "# Clasificacion  (30 pts)\n",
    "**total de la consigna (30 pts) Separado en preprocesamiento 20pts y modelo 10pts**\n",
    "\n",
    "1. Decidir que hacer con el valor de  la ubicación \"Marte\". Si la decisión es no quedarse con Marte filtrar el dataset y continuar sin esa categoria, si la decision es quedarse con Marte, avanzar. La única razón que aceptará el directorio es demostrarlo vía datos de comportamiento del cliente respecto a **variables de navegación**. \n",
    "* Justificar graficamente \n",
    "* Realizar un t-test\n",
    "*Hint: Hay algo parecido a las semanas de embarazos del examen anterior* (10 pts)  \n",
    "\n",
    "2. Hay dos columnas con valores atipicos.  (10 pts)\n",
    "* Graficar y encontrar valores outliers\n",
    "* ¿Cuantos valores outliers hay por cada columna? Para responder esto tendra que crear una columna por variable que determine si esa row es outlier o no. A esto se le llama columna flag. Utilice la funcion find_and_filter_outliers y modifiquela para obtener lo requerido. *Hint: f-string*\n",
    "* Solo una de las dos columnas debe filtrarse y la otra no. Tenga en cuenta que vamos a usar un modelo de decisión tree que es robusto a outliers. Justificar cual y aplique la función original find_and_filter_outliers y filtrar los puntos atipicos en el nuevo dataset\n",
    "\n",
    "```python\n",
    "\n",
    "def find_and_filter_outliers(dataframe, column_name):\n",
    "    # Calcular el rango intercuartílico\n",
    "    Q1 = dataframe[column_name].quantile(0.25)\n",
    "    Q3 = dataframe[column_name].quantile(0.75)\n",
    "    IQR = Q3 - Q1\n",
    "\n",
    "    # Definir límites para los valores atípicos\n",
    "    lower_bound = Q1 - 1.5 * IQR\n",
    "    upper_bound = Q3 + 1.5 * IQR\n",
    "    \n",
    "    # marcar las rows como outliers\n",
    "    dataframe['is_outlier'] = dataframe[column_name].apply(lambda x: 'Yes' if (x < lower_bound or x > upper_bound) else 'No')\n",
    "   \n",
    "\n",
    "    # Retornar un dataset filtrado\n",
    "    return dataframe[dataframe['is_outlier'] == 'No']\n",
    "```\n",
    "3. Seleccionar solo las variables pertinentes para un modelo de clasificación de conversión. Ejemplo: No necesitamos el id de la persona. Crear una hipotesis en palabras. Cree las variables dummies si cree correspondiente (5 pts)\n",
    "```python\n",
    "df_con_dummies = pd.get_dummies(df, columns=[\"cols_for_one_hot\"])\n",
    "```\n",
    "\n",
    "### Modelo (10pts)\n",
    "4. Separar train y test. Fitear un arbol de profundidad 3. \n",
    "\n",
    "```python\n",
    "from sklearn.model_selection import train_test_split\n",
    "from sklearn.tree import DecisionTreeClassifier\n",
    "```\n",
    "5. Crear y_pred\n",
    "6. Generar  la matriz de confusion y las metricas, precision, recall y acuracy. Respecto a y_test\n",
    "```python\n",
    "from sklearn.metrics import precision_score, recall_score, accuracy_score, confusion_matrix\n",
    "```\n",
    "5. Explicar la metrica precision_score en palabras. Que significa en este contexto?\n",
    "\n",
    "6. Visualizar el arbol. ¿Que regla o reglas harías a la hora de hacer una publicidad? (hint te lo dice el grafico) \n",
    "Codigo que funciona bastante bien en todas las computadoras. \n",
    "```python\n",
    "#!pip install scikit-learn graphviz matplotlib\n",
    "from sklearn.tree import export_graphviz\n",
    "import graphviz\n",
    "\n",
    "# Exportar el árbol en formato DOT\n",
    "dot_data = export_graphviz(tree, out_file=None, \n",
    "                           feature_names=X_train.columns,  \n",
    "                           class_names=['Clase1', 'Clase2'],  # Ajusta según tus clases\n",
    "                           filled=True, rounded=True,  \n",
    "                           special_characters=True)  \n",
    "\n",
    "# Usar Graphviz para crear la visualización\n",
    "graph = graphviz.Source(dot_data)  \n",
    "graph.render(\"arbol_decision\")  # Guarda el gráfico como un archivo .png\n",
    "graph \n",
    "```"
   ]
  },
  {
   "cell_type": "markdown",
   "id": "39d87c36874e1fae",
   "metadata": {},
   "source": [
    "###  Regresión (20 pts)\n",
    "\n",
    "Instrucciones y Puntaje:\n",
    "1. Valores faltantes. (5 pts)\n",
    "\n",
    "Este dataset **no tiene valores outliers** para que sea mas fácil la resolución del examen. \n",
    "Lo que si **tiene son valores nulos** en solo dos columnas. \n",
    "\n",
    "* Elegir cual columna con nulos se reemplaza con 0 y cual columna con la media por la media. Justifique.\n",
    "\n",
    "2. Selección de Variables pertinentes  (5 pts)\n",
    "Descarte la variable (o variables) que no considere importante para la predicciòn del ingreso del cliente. Justifique. \n",
    "\n",
    "3.Entrenamiento y Validación del Modelo de Regresión (10 pts)\n",
    "* Divida el conjunto de datos en entrenamiento y test. \n",
    "* Entrene un algoritmo de regresion que prediga ingreso.\n",
    "\n",
    "\n",
    "```python\n",
    "import statsmodels.api as sm\n",
    "X = sm.add_constant(X)\n",
    "modelo = sm.OLS(y, X).fit()\n",
    "```\n",
    "* Evalue el modelo utilizando la metrica MAPE\n",
    "\n",
    "\n",
    "\n",
    "\n",
    "```python\n",
    "import numpy as np\n",
    "predicciones = modelo.predict(X)\n",
    "# Calcular MAPE\n",
    "mape = np.mean(np.abs((y - predicciones) / y)) * 100\n",
    "print(f\"MAPE: {mape}%\")\n",
    "```\n",
    "* Interprete los coeficiente que significan (Explicar en palabras)\n",
    "* Intereprete el error MAPE que significa? (Explicar en palabras)\n"
   ]
  },
  {
   "cell_type": "markdown",
   "id": "ff8ad5af2c170665",
   "metadata": {},
   "source": [
    "\n",
    "##  Integración de Modelos y ROI en Publicidad \n",
    "\n",
    "\n",
    "## Explicación:\n",
    "\n",
    "### Estimación del Valor Esperado del Cliente\n",
    "Dado un modelo de clasificación que provee una probabilidad de que cada cliente haga una compra, \n",
    "y un modelo de regresión que estima el ingreso por cliente, el valor esperado del ingreso de un cliente se puede calcular como:\n",
    "\n",
    "\\begin{equation*}\n",
    "ValorEsperado_{ingreso} = Probabilidad_{compra} \\times Ingreso_{estimado}\n",
    "\\end{equation*}\n",
    "\n",
    "Donde $Probabilidad_{compra}$ es la probabilidad de compra predicha por el modelo de clasificación y $Ingreso_{estimado}$ es el ingreso \n",
    "estimado del modelo de regresión.\n",
    "\n",
    "### Cálculo del Costo de Publicidad total\n",
    "El costo de publicidad total se pude estimar dado nuestro modelo de clasificación. Aunque sea en otro set de entrenamiento tenemos una estimación que podemos inferir para otra muestra. La formula es\n",
    "\n",
    "\\begin{equation*}\n",
    "CostoPublicidad_{Total} = FP_{count} \\times Costo_{publicidad}\n",
    "\\end{equation*}\n",
    "\n",
    "Donde $FP_{count}$ es el número de falsos positivos y $Costo_{publicidad}$ es el costo de publicidad por cliente dado en el dataset costo.csv\n",
    "\n",
    "\n",
    "\n",
    "\n",
    "\n",
    "\n"
   ]
  },
  {
   "cell_type": "markdown",
   "id": "c8e17471571078dc",
   "metadata": {},
   "source": [
    "#### Cálculo del ROI\n",
    "\n",
    "\n",
    "\n",
    "\\begin{equation*}\n",
    "ROI = \\frac{\\left((TP \\times ValorEsperado_{ingreso}) \\right) - \\left( CostoPublicidad_{Total} \\right)}{CostoPublicidad_{Total}}\n",
    "\\end{equation*}\n",
    "\n"
   ]
  },
  {
   "cell_type": "markdown",
   "id": "147fb87f55d65cb5",
   "metadata": {},
   "source": [
    "\n",
    "## Consignas ganancia del modelo (50pts):\n",
    "a. Utilice para predecir los datasets correspondientes.\n",
    "b. ¿Cual es el valor esperado del algoritmo? \n",
    "c. Dado el resultado del modelo en el punto 1 del examen (1. Clasificacion). De 1000 clientes ¿Cuantos espera que sea Falsos positivos? Con esa suposición calcule el costo de publicidad total. \n",
    "d. Paso un mes y sabemos quienes convirtieron. conversion_real.csv. Calcule el roi (hint: vaya calculando cada elemento de la ecuación)\n",
    "e. Que cliente tiene mayor ROI? \n",
    "hint: \n",
    "```python\n",
    ".nlargest(1, 'roi')\n",
    "```\n",
    "f. ¿Cual es el ROI real del modelo?\n"
   ]
  },
  {
   "cell_type": "code",
   "execution_count": 1,
   "id": "fc83c2e2af98da42",
   "metadata": {
    "ExecuteTime": {
     "end_time": "2023-11-28T18:34:24.518072100Z",
     "start_time": "2023-11-28T18:34:24.500046500Z"
    }
   },
   "outputs": [],
   "source": [
    "import pandas as pd\n",
    "import seaborn as sns\n",
    "import matplotlib.pyplot as plt"
   ]
  },
  {
   "cell_type": "code",
   "execution_count": 2,
   "id": "e9129efb",
   "metadata": {},
   "outputs": [],
   "source": [
    "conv = pd.read_csv('conversion_para_entrenar.csv')"
   ]
  },
  {
   "cell_type": "code",
   "execution_count": 3,
   "id": "6688e5fb",
   "metadata": {},
   "outputs": [
    {
     "data": {
      "text/html": [
       "<div>\n",
       "<style scoped>\n",
       "    .dataframe tbody tr th:only-of-type {\n",
       "        vertical-align: middle;\n",
       "    }\n",
       "\n",
       "    .dataframe tbody tr th {\n",
       "        vertical-align: top;\n",
       "    }\n",
       "\n",
       "    .dataframe thead th {\n",
       "        text-align: right;\n",
       "    }\n",
       "</style>\n",
       "<table border=\"1\" class=\"dataframe\">\n",
       "  <thead>\n",
       "    <tr style=\"text-align: right;\">\n",
       "      <th></th>\n",
       "      <th>Unnamed: 0</th>\n",
       "      <th>id del cliente</th>\n",
       "      <th>páginas visitadas</th>\n",
       "      <th>duración de la sesión</th>\n",
       "      <th>número de visitas</th>\n",
       "      <th>fecha de nacimiento</th>\n",
       "      <th>ubicación</th>\n",
       "      <th>dispositivo</th>\n",
       "      <th>convertido</th>\n",
       "    </tr>\n",
       "  </thead>\n",
       "  <tbody>\n",
       "    <tr>\n",
       "      <th>0</th>\n",
       "      <td>0</td>\n",
       "      <td>1</td>\n",
       "      <td>9</td>\n",
       "      <td>91.231418</td>\n",
       "      <td>39</td>\n",
       "      <td>1955-11-30 12:27:39.148023</td>\n",
       "      <td>Marte</td>\n",
       "      <td>tablet</td>\n",
       "      <td>Sí</td>\n",
       "    </tr>\n",
       "    <tr>\n",
       "      <th>1</th>\n",
       "      <td>1</td>\n",
       "      <td>2</td>\n",
       "      <td>5</td>\n",
       "      <td>740.421698</td>\n",
       "      <td>11</td>\n",
       "      <td>1998-11-19 12:27:39.148023</td>\n",
       "      <td>Marte</td>\n",
       "      <td>móvil</td>\n",
       "      <td>No</td>\n",
       "    </tr>\n",
       "    <tr>\n",
       "      <th>2</th>\n",
       "      <td>2</td>\n",
       "      <td>3</td>\n",
       "      <td>6</td>\n",
       "      <td>15.947268</td>\n",
       "      <td>3</td>\n",
       "      <td>1962-11-28 12:27:39.148023</td>\n",
       "      <td>Marte</td>\n",
       "      <td>tablet</td>\n",
       "      <td>Sí</td>\n",
       "    </tr>\n",
       "    <tr>\n",
       "      <th>3</th>\n",
       "      <td>3</td>\n",
       "      <td>4</td>\n",
       "      <td>5</td>\n",
       "      <td>950.486443</td>\n",
       "      <td>18</td>\n",
       "      <td>1967-11-27 12:27:39.148023</td>\n",
       "      <td>Marte</td>\n",
       "      <td>móvil</td>\n",
       "      <td>Sí</td>\n",
       "    </tr>\n",
       "    <tr>\n",
       "      <th>4</th>\n",
       "      <td>4</td>\n",
       "      <td>5</td>\n",
       "      <td>5</td>\n",
       "      <td>63.656943</td>\n",
       "      <td>26</td>\n",
       "      <td>1982-11-23 12:27:39.148023</td>\n",
       "      <td>Marte</td>\n",
       "      <td>ordenador</td>\n",
       "      <td>No</td>\n",
       "    </tr>\n",
       "    <tr>\n",
       "      <th>...</th>\n",
       "      <td>...</td>\n",
       "      <td>...</td>\n",
       "      <td>...</td>\n",
       "      <td>...</td>\n",
       "      <td>...</td>\n",
       "      <td>...</td>\n",
       "      <td>...</td>\n",
       "      <td>...</td>\n",
       "      <td>...</td>\n",
       "    </tr>\n",
       "    <tr>\n",
       "      <th>2995</th>\n",
       "      <td>2995</td>\n",
       "      <td>2996</td>\n",
       "      <td>6</td>\n",
       "      <td>213.400237</td>\n",
       "      <td>6</td>\n",
       "      <td>1962-11-28 12:27:39.148023</td>\n",
       "      <td>Ciudad B</td>\n",
       "      <td>ordenador</td>\n",
       "      <td>No</td>\n",
       "    </tr>\n",
       "    <tr>\n",
       "      <th>2996</th>\n",
       "      <td>2996</td>\n",
       "      <td>2997</td>\n",
       "      <td>3</td>\n",
       "      <td>359.351304</td>\n",
       "      <td>7</td>\n",
       "      <td>1962-11-28 12:27:39.148023</td>\n",
       "      <td>Ciudad B</td>\n",
       "      <td>ordenador</td>\n",
       "      <td>No</td>\n",
       "    </tr>\n",
       "    <tr>\n",
       "      <th>2997</th>\n",
       "      <td>2997</td>\n",
       "      <td>2998</td>\n",
       "      <td>9</td>\n",
       "      <td>352.961711</td>\n",
       "      <td>33</td>\n",
       "      <td>1980-11-23 12:27:39.148023</td>\n",
       "      <td>Ciudad A</td>\n",
       "      <td>ordenador</td>\n",
       "      <td>No</td>\n",
       "    </tr>\n",
       "    <tr>\n",
       "      <th>2998</th>\n",
       "      <td>2998</td>\n",
       "      <td>2999</td>\n",
       "      <td>7</td>\n",
       "      <td>230.507817</td>\n",
       "      <td>13</td>\n",
       "      <td>1982-11-23 12:27:39.148023</td>\n",
       "      <td>Ciudad A</td>\n",
       "      <td>ordenador</td>\n",
       "      <td>No</td>\n",
       "    </tr>\n",
       "    <tr>\n",
       "      <th>2999</th>\n",
       "      <td>2999</td>\n",
       "      <td>3000</td>\n",
       "      <td>7</td>\n",
       "      <td>220.498271</td>\n",
       "      <td>4</td>\n",
       "      <td>1989-11-21 12:27:39.148023</td>\n",
       "      <td>Ciudad A</td>\n",
       "      <td>móvil</td>\n",
       "      <td>No</td>\n",
       "    </tr>\n",
       "  </tbody>\n",
       "</table>\n",
       "<p>3000 rows × 9 columns</p>\n",
       "</div>"
      ],
      "text/plain": [
       "      Unnamed: 0  id del cliente  páginas visitadas  duración de la sesión  \\\n",
       "0              0               1                  9              91.231418   \n",
       "1              1               2                  5             740.421698   \n",
       "2              2               3                  6              15.947268   \n",
       "3              3               4                  5             950.486443   \n",
       "4              4               5                  5              63.656943   \n",
       "...          ...             ...                ...                    ...   \n",
       "2995        2995            2996                  6             213.400237   \n",
       "2996        2996            2997                  3             359.351304   \n",
       "2997        2997            2998                  9             352.961711   \n",
       "2998        2998            2999                  7             230.507817   \n",
       "2999        2999            3000                  7             220.498271   \n",
       "\n",
       "      número de visitas         fecha de nacimiento ubicación dispositivo  \\\n",
       "0                    39  1955-11-30 12:27:39.148023     Marte      tablet   \n",
       "1                    11  1998-11-19 12:27:39.148023     Marte       móvil   \n",
       "2                     3  1962-11-28 12:27:39.148023     Marte      tablet   \n",
       "3                    18  1967-11-27 12:27:39.148023     Marte       móvil   \n",
       "4                    26  1982-11-23 12:27:39.148023     Marte   ordenador   \n",
       "...                 ...                         ...       ...         ...   \n",
       "2995                  6  1962-11-28 12:27:39.148023  Ciudad B   ordenador   \n",
       "2996                  7  1962-11-28 12:27:39.148023  Ciudad B   ordenador   \n",
       "2997                 33  1980-11-23 12:27:39.148023  Ciudad A   ordenador   \n",
       "2998                 13  1982-11-23 12:27:39.148023  Ciudad A   ordenador   \n",
       "2999                  4  1989-11-21 12:27:39.148023  Ciudad A       móvil   \n",
       "\n",
       "     convertido  \n",
       "0            Sí  \n",
       "1            No  \n",
       "2            Sí  \n",
       "3            Sí  \n",
       "4            No  \n",
       "...         ...  \n",
       "2995         No  \n",
       "2996         No  \n",
       "2997         No  \n",
       "2998         No  \n",
       "2999         No  \n",
       "\n",
       "[3000 rows x 9 columns]"
      ]
     },
     "execution_count": 3,
     "metadata": {},
     "output_type": "execute_result"
    }
   ],
   "source": [
    "conv"
   ]
  },
  {
   "cell_type": "code",
   "execution_count": 4,
   "id": "787f3bfa",
   "metadata": {},
   "outputs": [],
   "source": [
    "conv = conv.drop(columns = ['Unnamed: 0'])"
   ]
  },
  {
   "cell_type": "code",
   "execution_count": 5,
   "id": "68216250",
   "metadata": {},
   "outputs": [
    {
     "data": {
      "text/plain": [
       "(3000, 8)"
      ]
     },
     "execution_count": 5,
     "metadata": {},
     "output_type": "execute_result"
    }
   ],
   "source": [
    "conv.shape"
   ]
  },
  {
   "cell_type": "code",
   "execution_count": 6,
   "id": "64386884",
   "metadata": {},
   "outputs": [
    {
     "data": {
      "text/plain": [
       "id del cliente           0\n",
       "páginas visitadas        0\n",
       "duración de la sesión    0\n",
       "número de visitas        0\n",
       "fecha de nacimiento      0\n",
       "ubicación                0\n",
       "dispositivo              0\n",
       "convertido               0\n",
       "dtype: int64"
      ]
     },
     "execution_count": 6,
     "metadata": {},
     "output_type": "execute_result"
    }
   ],
   "source": [
    "conv.isna().sum()"
   ]
  },
  {
   "cell_type": "code",
   "execution_count": 7,
   "id": "ef6b28ba",
   "metadata": {},
   "outputs": [
    {
     "name": "stdout",
     "output_type": "stream",
     "text": [
      "<class 'pandas.core.frame.DataFrame'>\n",
      "RangeIndex: 3000 entries, 0 to 2999\n",
      "Data columns (total 8 columns):\n",
      " #   Column                 Non-Null Count  Dtype  \n",
      "---  ------                 --------------  -----  \n",
      " 0   id del cliente         3000 non-null   int64  \n",
      " 1   páginas visitadas      3000 non-null   int64  \n",
      " 2   duración de la sesión  3000 non-null   float64\n",
      " 3   número de visitas      3000 non-null   int64  \n",
      " 4   fecha de nacimiento    3000 non-null   object \n",
      " 5   ubicación              3000 non-null   object \n",
      " 6   dispositivo            3000 non-null   object \n",
      " 7   convertido             3000 non-null   object \n",
      "dtypes: float64(1), int64(3), object(4)\n",
      "memory usage: 187.6+ KB\n"
     ]
    }
   ],
   "source": [
    "conv.info()"
   ]
  },
  {
   "cell_type": "code",
   "execution_count": 8,
   "id": "d0dcca72",
   "metadata": {},
   "outputs": [
    {
     "data": {
      "text/html": [
       "<div>\n",
       "<style scoped>\n",
       "    .dataframe tbody tr th:only-of-type {\n",
       "        vertical-align: middle;\n",
       "    }\n",
       "\n",
       "    .dataframe tbody tr th {\n",
       "        vertical-align: top;\n",
       "    }\n",
       "\n",
       "    .dataframe thead th {\n",
       "        text-align: right;\n",
       "    }\n",
       "</style>\n",
       "<table border=\"1\" class=\"dataframe\">\n",
       "  <thead>\n",
       "    <tr style=\"text-align: right;\">\n",
       "      <th></th>\n",
       "      <th>id del cliente</th>\n",
       "      <th>páginas visitadas</th>\n",
       "      <th>duración de la sesión</th>\n",
       "      <th>número de visitas</th>\n",
       "    </tr>\n",
       "  </thead>\n",
       "  <tbody>\n",
       "    <tr>\n",
       "      <th>count</th>\n",
       "      <td>3000.000000</td>\n",
       "      <td>3000.000000</td>\n",
       "      <td>3000.000000</td>\n",
       "      <td>3000.000000</td>\n",
       "    </tr>\n",
       "    <tr>\n",
       "      <th>mean</th>\n",
       "      <td>1500.500000</td>\n",
       "      <td>5.390667</td>\n",
       "      <td>328.852117</td>\n",
       "      <td>23.990333</td>\n",
       "    </tr>\n",
       "    <tr>\n",
       "      <th>std</th>\n",
       "      <td>866.169729</td>\n",
       "      <td>4.645131</td>\n",
       "      <td>227.268288</td>\n",
       "      <td>14.380212</td>\n",
       "    </tr>\n",
       "    <tr>\n",
       "      <th>min</th>\n",
       "      <td>1.000000</td>\n",
       "      <td>0.000000</td>\n",
       "      <td>8.975322</td>\n",
       "      <td>0.000000</td>\n",
       "    </tr>\n",
       "    <tr>\n",
       "      <th>25%</th>\n",
       "      <td>750.750000</td>\n",
       "      <td>3.000000</td>\n",
       "      <td>266.792175</td>\n",
       "      <td>12.000000</td>\n",
       "    </tr>\n",
       "    <tr>\n",
       "      <th>50%</th>\n",
       "      <td>1500.500000</td>\n",
       "      <td>5.000000</td>\n",
       "      <td>302.562957</td>\n",
       "      <td>24.000000</td>\n",
       "    </tr>\n",
       "    <tr>\n",
       "      <th>75%</th>\n",
       "      <td>2250.250000</td>\n",
       "      <td>6.000000</td>\n",
       "      <td>338.617852</td>\n",
       "      <td>37.000000</td>\n",
       "    </tr>\n",
       "    <tr>\n",
       "      <th>max</th>\n",
       "      <td>3000.000000</td>\n",
       "      <td>56.000000</td>\n",
       "      <td>4776.196211</td>\n",
       "      <td>49.000000</td>\n",
       "    </tr>\n",
       "  </tbody>\n",
       "</table>\n",
       "</div>"
      ],
      "text/plain": [
       "       id del cliente  páginas visitadas  duración de la sesión  \\\n",
       "count     3000.000000        3000.000000            3000.000000   \n",
       "mean      1500.500000           5.390667             328.852117   \n",
       "std        866.169729           4.645131             227.268288   \n",
       "min          1.000000           0.000000               8.975322   \n",
       "25%        750.750000           3.000000             266.792175   \n",
       "50%       1500.500000           5.000000             302.562957   \n",
       "75%       2250.250000           6.000000             338.617852   \n",
       "max       3000.000000          56.000000            4776.196211   \n",
       "\n",
       "       número de visitas  \n",
       "count        3000.000000  \n",
       "mean           23.990333  \n",
       "std            14.380212  \n",
       "min             0.000000  \n",
       "25%            12.000000  \n",
       "50%            24.000000  \n",
       "75%            37.000000  \n",
       "max            49.000000  "
      ]
     },
     "execution_count": 8,
     "metadata": {},
     "output_type": "execute_result"
    }
   ],
   "source": [
    "conv.describe()"
   ]
  },
  {
   "cell_type": "code",
   "execution_count": 9,
   "id": "ee2eeda7",
   "metadata": {},
   "outputs": [
    {
     "data": {
      "text/plain": [
       "ubicación\n",
       "Ciudad B    1396\n",
       "Ciudad A    1394\n",
       "Marte        150\n",
       "Ciudad C      60\n",
       "Name: count, dtype: int64"
      ]
     },
     "execution_count": 9,
     "metadata": {},
     "output_type": "execute_result"
    }
   ],
   "source": [
    "conv['ubicación'].value_counts()"
   ]
  },
  {
   "cell_type": "code",
   "execution_count": 10,
   "id": "79c98e07",
   "metadata": {},
   "outputs": [
    {
     "data": {
      "text/plain": [
       "<Axes: xlabel='ubicación', ylabel='duración de la sesión'>"
      ]
     },
     "execution_count": 10,
     "metadata": {},
     "output_type": "execute_result"
    },
    {
     "data": {
      "image/png": "[encoded data removed]",
      "text/plain": [
       "<Figure size 640x480 with 1 Axes>"
      ]
     },
     "metadata": {},
     "output_type": "display_data"
    }
   ],
   "source": [
    "sns.boxplot(x='ubicación', y='duración de la sesión', data=conv)"
   ]
  },
  {
   "cell_type": "code",
   "execution_count": 11,
   "id": "040bbda8",
   "metadata": {},
   "outputs": [],
   "source": [
    "from scipy.stats import ttest_ind"
   ]
  },
  {
   "cell_type": "code",
   "execution_count": 12,
   "id": "fc4ad7cf",
   "metadata": {},
   "outputs": [],
   "source": [
    "data_marte = conv[conv['ubicación'] == 'Marte']['duración de la sesión']\n",
    "data_no_marte = conv[conv['ubicación'] != 'Marte']['duración de la sesión']\n",
    "\n",
    "t_stat, p_value = ttest_ind(data_marte, data_no_marte)"
   ]
  },
  {
   "cell_type": "code",
   "execution_count": 13,
   "id": "3824e018",
   "metadata": {},
   "outputs": [
    {
     "name": "stdout",
     "output_type": "stream",
     "text": [
      "Rechazar la hipótesis nula. Hay diferencia significativa de duración de la sesión entre gente de marte y los que no.\n"
     ]
    }
   ],
   "source": [
    "if p_value < 0.05:\n",
    "  print(\"Rechazar la hipótesis nula. Hay diferencia significativa de duración de la sesión entre gente de marte y los que no.\")\n",
    "else:\n",
    "  print(\"No rechazar la hipótesis nula.\")"
   ]
  },
  {
   "cell_type": "code",
   "execution_count": 14,
   "id": "9259c2f4",
   "metadata": {},
   "outputs": [],
   "source": [
    "conv = conv[conv['ubicación'] != 'Marte']"
   ]
  },
  {
   "cell_type": "code",
   "execution_count": 15,
   "id": "91ad98f8",
   "metadata": {},
   "outputs": [
    {
     "data": {
      "text/plain": [
       "(2850, 8)"
      ]
     },
     "execution_count": 15,
     "metadata": {},
     "output_type": "execute_result"
    }
   ],
   "source": [
    "conv.shape"
   ]
  },
  {
   "cell_type": "code",
   "execution_count": 16,
   "id": "fa5aaa91",
   "metadata": {},
   "outputs": [],
   "source": [
    "def plot_outliers(df):\n",
    "    num_cols = df.select_dtypes(include=['float64', 'int64']).shape[1]\n",
    "    num_rows = (num_cols - 1) // 2 + 1\n",
    "    fig, axs = plt.subplots(num_rows, 2, figsize=(20, 5*num_rows))\n",
    "    axs = axs.flatten()\n",
    "    for i, col in enumerate(df.select_dtypes(include=['float64', 'int64']).columns):\n",
    "        box = axs[i].boxplot(df[col], patch_artist=True, boxprops=dict(facecolor='#336fa2'), medianprops=dict(color='black'))\n",
    "        for patch in box['fliers']:\n",
    "            patch.set_markerfacecolor('black')\n",
    "            patch.set_markeredgecolor('black')\n",
    "        axs[i].set_title(col)\n",
    "    plt.tight_layout()\n",
    "    plt.show()"
   ]
  },
  {
   "cell_type": "code",
   "execution_count": 17,
   "id": "97f78217",
   "metadata": {},
   "outputs": [
    {
     "data": {
      "image/png": "[encoded data removed]",
      "text/plain": [
       "<Figure size 2000x500 with 2 Axes>"
      ]
     },
     "metadata": {},
     "output_type": "display_data"
    }
   ],
   "source": [
    "plot_outliers(conv[['páginas visitadas', 'duración de la sesión']])"
   ]
  },
  {
   "cell_type": "code",
   "execution_count": 18,
   "id": "f97a5b28",
   "metadata": {},
   "outputs": [],
   "source": [
    "def find_and_filter_outliers(dataframe, column_name):\n",
    "    # Calcular el rango intercuartílico\n",
    "    Q1 = dataframe[column_name].quantile(0.25)\n",
    "    Q3 = dataframe[column_name].quantile(0.75)\n",
    "    IQR = Q3 - Q1\n",
    "\n",
    "    # Definir límites para los valores atípicos\n",
    "    lower_bound = Q1 - 1.5 * IQR\n",
    "    upper_bound = Q3 + 1.5 * IQR\n",
    "    \n",
    "    # marcar las rows como outliers\n",
    "    dataframe['is_outlier'] = dataframe[column_name].apply(lambda x: 'Yes' if (x < lower_bound or x > upper_bound) else 'No')\n",
    "   \n",
    "\n",
    "    # Retornar un dataset filtrado\n",
    "    return dataframe[dataframe['is_outlier'] == 'No']"
   ]
  },
  {
   "cell_type": "code",
   "execution_count": 19,
   "id": "8262edf4",
   "metadata": {},
   "outputs": [
    {
     "data": {
      "text/plain": [
       "74"
      ]
     },
     "execution_count": 19,
     "metadata": {},
     "output_type": "execute_result"
    }
   ],
   "source": [
    "conv.shape[0] - find_and_filter_outliers(conv, 'páginas visitadas').shape[0]"
   ]
  },
  {
   "cell_type": "code",
   "execution_count": 20,
   "id": "83ad6c22",
   "metadata": {},
   "outputs": [
    {
     "data": {
      "text/plain": [
       "23"
      ]
     },
     "execution_count": 20,
     "metadata": {},
     "output_type": "execute_result"
    }
   ],
   "source": [
    "conv.shape[0] - find_and_filter_outliers(conv, 'duración de la sesión').shape[0]"
   ]
  },
  {
   "cell_type": "code",
   "execution_count": 21,
   "id": "aaf8782b",
   "metadata": {},
   "outputs": [],
   "source": [
    "#Filtaria la columna paginas visitadas, porque en mi opinion no tiene sentido que se abran tantas veces, y \n",
    "#la duracion de la sesion puede ser un poco mas larga o corta de lo normal."
   ]
  },
  {
   "cell_type": "code",
   "execution_count": 22,
   "id": "680fdb78",
   "metadata": {},
   "outputs": [],
   "source": [
    "conv = find_and_filter_outliers(conv, 'páginas visitadas')"
   ]
  },
  {
   "cell_type": "code",
   "execution_count": 23,
   "id": "5fe6b793",
   "metadata": {},
   "outputs": [
    {
     "data": {
      "text/plain": [
       "Index(['id del cliente', 'páginas visitadas', 'duración de la sesión',\n",
       "       'número de visitas', 'fecha de nacimiento', 'ubicación', 'dispositivo',\n",
       "       'convertido', 'is_outlier'],\n",
       "      dtype='object')"
      ]
     },
     "execution_count": 23,
     "metadata": {},
     "output_type": "execute_result"
    }
   ],
   "source": [
    "conv.columns"
   ]
  },
  {
   "cell_type": "code",
   "execution_count": 24,
   "id": "6ec99fda",
   "metadata": {},
   "outputs": [],
   "source": [
    "x = conv[['páginas visitadas', 'duración de la sesión','número de visitas', 'ubicación', 'dispositivo']]"
   ]
  },
  {
   "cell_type": "code",
   "execution_count": 25,
   "id": "586ab0b1",
   "metadata": {},
   "outputs": [],
   "source": [
    "df_con_dummies = pd.get_dummies(x, columns=['ubicación', 'dispositivo'])"
   ]
  },
  {
   "cell_type": "code",
   "execution_count": 26,
   "id": "2d8610aa",
   "metadata": {},
   "outputs": [],
   "source": [
    "#Sacaria el id y la fecha de nacimiento, porque no te interesa para predecir la hora en la que nacieron"
   ]
  },
  {
   "cell_type": "code",
   "execution_count": 27,
   "id": "71fd1cb5",
   "metadata": {},
   "outputs": [],
   "source": [
    "from sklearn.model_selection import train_test_split\n",
    "from sklearn.tree import DecisionTreeClassifier, export_graphviz\n",
    "import graphviz"
   ]
  },
  {
   "cell_type": "code",
   "execution_count": 28,
   "id": "75dc500d",
   "metadata": {},
   "outputs": [],
   "source": [
    "def convertir_num(x):\n",
    "    if x == 'Sí':\n",
    "        return True\n",
    "    else:\n",
    "        return False"
   ]
  },
  {
   "cell_type": "code",
   "execution_count": 29,
   "id": "cec13969",
   "metadata": {},
   "outputs": [],
   "source": [
    "X = df_con_dummies\n",
    "y = conv['convertido'].apply(convertir_num)"
   ]
  },
  {
   "cell_type": "code",
   "execution_count": 30,
   "id": "a95dc35b",
   "metadata": {},
   "outputs": [],
   "source": [
    "X_train, X_test, y_train, y_test = train_test_split(X, y, test_size = 0.2, random_state = 42)"
   ]
  },
  {
   "cell_type": "code",
   "execution_count": 31,
   "id": "e0bd5640",
   "metadata": {},
   "outputs": [],
   "source": [
    "decision_tree_model = DecisionTreeClassifier(criterion=\"entropy\", random_state=2,\n",
    "max_depth=3)\n",
    "# Validación cruzada\n",
    "decision_tree_model.fit(X_train, y_train)\n",
    "# Matriz de confusión\n",
    "y_pred = decision_tree_model.predict(X_test)\n",
    "y_true = y_test"
   ]
  },
  {
   "cell_type": "code",
   "execution_count": 32,
   "id": "cf55e40b",
   "metadata": {},
   "outputs": [],
   "source": [
    "import graphviz\n",
    "from sklearn.tree import DecisionTreeClassifier, export_graphviz"
   ]
  },
  {
   "cell_type": "code",
   "execution_count": 33,
   "id": "58b82560",
   "metadata": {},
   "outputs": [
    {
     "data": {
      "image/svg+xml": [
       "<?xml version=\"1.0\" encoding=\"UTF-8\" standalone=\"no\"?>\n",
       "<!DOCTYPE svg PUBLIC \"-//W3C//DTD SVG 1.1//EN\"\n",
       " \"http://www.w3.org/Graphics/SVG/1.1/DTD/svg11.dtd\">\n",
       "<!-- Generated by graphviz version 9.0.0 (20230911.1827)\n",
       " -->\n",
       "<!-- Title: Tree Pages: 1 -->\n",
       "<svg width=\"1069pt\" height=\"396pt\"\n",
       " viewBox=\"0.00 0.00 1069.25 395.50\" xmlns=\"http://www.w3.org/2000/svg\" xmlns:xlink=\"http://www.w3.org/1999/xlink\">\n",
       "<g id=\"graph0\" class=\"graph\" transform=\"scale(1 1) rotate(0) translate(4 391.5)\">\n",
       "<title>Tree</title>\n",
       "<polygon fill=\"white\" stroke=\"none\" points=\"-4,4 -4,-391.5 1065.25,-391.5 1065.25,4 -4,4\"/>\n",
       "<!-- 0 -->\n",
       "<g id=\"node1\" class=\"node\">\n",
       "<title>0</title>\n",
       "<path fill=\"#fef9f6\" stroke=\"black\" d=\"M607.88,-387.5C607.88,-387.5 413.38,-387.5 413.38,-387.5 407.38,-387.5 401.38,-381.5 401.38,-375.5 401.38,-375.5 401.38,-325.5 401.38,-325.5 401.38,-319.5 407.38,-313.5 413.38,-313.5 413.38,-313.5 607.88,-313.5 607.88,-313.5 613.88,-313.5 619.88,-319.5 619.88,-325.5 619.88,-325.5 619.88,-375.5 619.88,-375.5 619.88,-381.5 613.88,-387.5 607.88,-387.5\"/>\n",
       "<text text-anchor=\"start\" x=\"409.38\" y=\"-370.2\" font-family=\"Helvetica,sans-Serif\" font-size=\"14.00\">duración de la sesión ≤ 335.524</text>\n",
       "<text text-anchor=\"start\" x=\"469\" y=\"-353.7\" font-family=\"Helvetica,sans-Serif\" font-size=\"14.00\">entropy = 1.0</text>\n",
       "<text text-anchor=\"start\" x=\"459.25\" y=\"-337.2\" font-family=\"Helvetica,sans-Serif\" font-size=\"14.00\">samples = 2220</text>\n",
       "<text text-anchor=\"start\" x=\"445.75\" y=\"-320.7\" font-family=\"Helvetica,sans-Serif\" font-size=\"14.00\">value = [1136, 1084]</text>\n",
       "</g>\n",
       "<!-- 1 -->\n",
       "<g id=\"node2\" class=\"node\">\n",
       "<title>1</title>\n",
       "<path fill=\"#fcfdff\" stroke=\"black\" d=\"M497.75,-277.5C497.75,-277.5 311.5,-277.5 311.5,-277.5 305.5,-277.5 299.5,-271.5 299.5,-265.5 299.5,-265.5 299.5,-215.5 299.5,-215.5 299.5,-209.5 305.5,-203.5 311.5,-203.5 311.5,-203.5 497.75,-203.5 497.75,-203.5 503.75,-203.5 509.75,-209.5 509.75,-215.5 509.75,-215.5 509.75,-265.5 509.75,-265.5 509.75,-271.5 503.75,-277.5 497.75,-277.5\"/>\n",
       "<text text-anchor=\"start\" x=\"307.5\" y=\"-260.2\" font-family=\"Helvetica,sans-Serif\" font-size=\"14.00\">duración de la sesión ≤ 333.69</text>\n",
       "<text text-anchor=\"start\" x=\"363\" y=\"-243.7\" font-family=\"Helvetica,sans-Serif\" font-size=\"14.00\">entropy = 1.0</text>\n",
       "<text text-anchor=\"start\" x=\"353.25\" y=\"-227.2\" font-family=\"Helvetica,sans-Serif\" font-size=\"14.00\">samples = 1665</text>\n",
       "<text text-anchor=\"start\" x=\"348\" y=\"-210.7\" font-family=\"Helvetica,sans-Serif\" font-size=\"14.00\">value = [826, 839]</text>\n",
       "</g>\n",
       "<!-- 0&#45;&gt;1 -->\n",
       "<g id=\"edge1\" class=\"edge\">\n",
       "<title>0&#45;&gt;1</title>\n",
       "<path fill=\"none\" stroke=\"black\" d=\"M475.03,-313.24C466.47,-304.51 457.22,-295.09 448.33,-286.03\"/>\n",
       "<polygon fill=\"black\" stroke=\"black\" points=\"450.87,-283.62 441.36,-278.93 445.87,-288.52 450.87,-283.62\"/>\n",
       "<text text-anchor=\"middle\" x=\"440.07\" y=\"-297.8\" font-family=\"Helvetica,sans-Serif\" font-size=\"14.00\">True</text>\n",
       "</g>\n",
       "<!-- 8 -->\n",
       "<g id=\"node9\" class=\"node\">\n",
       "<title>8</title>\n",
       "<path fill=\"#fae5d5\" stroke=\"black\" d=\"M704.25,-277.5C704.25,-277.5 569,-277.5 569,-277.5 563,-277.5 557,-271.5 557,-265.5 557,-265.5 557,-215.5 557,-215.5 557,-209.5 563,-203.5 569,-203.5 569,-203.5 704.25,-203.5 704.25,-203.5 710.25,-203.5 716.25,-209.5 716.25,-215.5 716.25,-215.5 716.25,-265.5 716.25,-265.5 716.25,-271.5 710.25,-277.5 704.25,-277.5\"/>\n",
       "<text text-anchor=\"start\" x=\"565\" y=\"-260.2\" font-family=\"Helvetica,sans-Serif\" font-size=\"14.00\">páginas visitadas ≤ 1.5</text>\n",
       "<text text-anchor=\"start\" x=\"590.88\" y=\"-243.7\" font-family=\"Helvetica,sans-Serif\" font-size=\"14.00\">entropy = 0.99</text>\n",
       "<text text-anchor=\"start\" x=\"589.38\" y=\"-227.2\" font-family=\"Helvetica,sans-Serif\" font-size=\"14.00\">samples = 555</text>\n",
       "<text text-anchor=\"start\" x=\"580\" y=\"-210.7\" font-family=\"Helvetica,sans-Serif\" font-size=\"14.00\">value = [310, 245]</text>\n",
       "</g>\n",
       "<!-- 0&#45;&gt;8 -->\n",
       "<g id=\"edge8\" class=\"edge\">\n",
       "<title>0&#45;&gt;8</title>\n",
       "<path fill=\"none\" stroke=\"black\" d=\"M552.93,-313.24C563.42,-304.24 574.78,-294.51 585.64,-285.2\"/>\n",
       "<polygon fill=\"black\" stroke=\"black\" points=\"587.75,-288 593.07,-278.84 583.2,-282.69 587.75,-288\"/>\n",
       "<text text-anchor=\"middle\" x=\"592.3\" y=\"-297.73\" font-family=\"Helvetica,sans-Serif\" font-size=\"14.00\">False</text>\n",
       "</g>\n",
       "<!-- 2 -->\n",
       "<g id=\"node3\" class=\"node\">\n",
       "<title>2</title>\n",
       "<path fill=\"#ffffff\" stroke=\"black\" d=\"M284.88,-167.5C284.88,-167.5 138.38,-167.5 138.38,-167.5 132.38,-167.5 126.38,-161.5 126.38,-155.5 126.38,-155.5 126.38,-105.5 126.38,-105.5 126.38,-99.5 132.38,-93.5 138.38,-93.5 138.38,-93.5 284.88,-93.5 284.88,-93.5 290.88,-93.5 296.88,-99.5 296.88,-105.5 296.88,-105.5 296.88,-155.5 296.88,-155.5 296.88,-161.5 290.88,-167.5 284.88,-167.5\"/>\n",
       "<text text-anchor=\"start\" x=\"134.38\" y=\"-150.2\" font-family=\"Helvetica,sans-Serif\" font-size=\"14.00\">número de visitas ≤ 30.5</text>\n",
       "<text text-anchor=\"start\" x=\"170\" y=\"-133.7\" font-family=\"Helvetica,sans-Serif\" font-size=\"14.00\">entropy = 1.0</text>\n",
       "<text text-anchor=\"start\" x=\"160.25\" y=\"-117.2\" font-family=\"Helvetica,sans-Serif\" font-size=\"14.00\">samples = 1646</text>\n",
       "<text text-anchor=\"start\" x=\"155\" y=\"-100.7\" font-family=\"Helvetica,sans-Serif\" font-size=\"14.00\">value = [822, 824]</text>\n",
       "</g>\n",
       "<!-- 1&#45;&gt;2 -->\n",
       "<g id=\"edge2\" class=\"edge\">\n",
       "<title>1&#45;&gt;2</title>\n",
       "<path fill=\"none\" stroke=\"black\" d=\"M339.55,-203.09C322.47,-193.53 303.91,-183.14 286.37,-173.33\"/>\n",
       "<polygon fill=\"black\" stroke=\"black\" points=\"288.5,-170.51 278.06,-168.68 285.08,-176.62 288.5,-170.51\"/>\n",
       "</g>\n",
       "<!-- 5 -->\n",
       "<g id=\"node6\" class=\"node\">\n",
       "<title>5</title>\n",
       "<path fill=\"#6eb7ec\" stroke=\"black\" d=\"M477.88,-167.5C477.88,-167.5 331.38,-167.5 331.38,-167.5 325.38,-167.5 319.38,-161.5 319.38,-155.5 319.38,-155.5 319.38,-105.5 319.38,-105.5 319.38,-99.5 325.38,-93.5 331.38,-93.5 331.38,-93.5 477.88,-93.5 477.88,-93.5 483.88,-93.5 489.88,-99.5 489.88,-105.5 489.88,-105.5 489.88,-155.5 489.88,-155.5 489.88,-161.5 483.88,-167.5 477.88,-167.5\"/>\n",
       "<text text-anchor=\"start\" x=\"327.38\" y=\"-150.2\" font-family=\"Helvetica,sans-Serif\" font-size=\"14.00\">número de visitas ≤ 38.5</text>\n",
       "<text text-anchor=\"start\" x=\"354.75\" y=\"-133.7\" font-family=\"Helvetica,sans-Serif\" font-size=\"14.00\">entropy = 0.742</text>\n",
       "<text text-anchor=\"start\" x=\"361.5\" y=\"-117.2\" font-family=\"Helvetica,sans-Serif\" font-size=\"14.00\">samples = 19</text>\n",
       "<text text-anchor=\"start\" x=\"360.38\" y=\"-100.7\" font-family=\"Helvetica,sans-Serif\" font-size=\"14.00\">value = [4, 15]</text>\n",
       "</g>\n",
       "<!-- 1&#45;&gt;5 -->\n",
       "<g id=\"edge5\" class=\"edge\">\n",
       "<title>1&#45;&gt;5</title>\n",
       "<path fill=\"none\" stroke=\"black\" d=\"M404.62,-203.24C404.62,-195.49 404.62,-187.2 404.62,-179.1\"/>\n",
       "<polygon fill=\"black\" stroke=\"black\" points=\"408.13,-179.36 404.63,-169.36 401.13,-179.36 408.13,-179.36\"/>\n",
       "</g>\n",
       "<!-- 3 -->\n",
       "<g id=\"node4\" class=\"node\">\n",
       "<title>3</title>\n",
       "<path fill=\"#f3f9fd\" stroke=\"black\" d=\"M117.25,-57.5C117.25,-57.5 12,-57.5 12,-57.5 6,-57.5 0,-51.5 0,-45.5 0,-45.5 0,-12 0,-12 0,-6 6,0 12,0 12,0 117.25,0 117.25,0 123.25,0 129.25,-6 129.25,-12 129.25,-12 129.25,-45.5 129.25,-45.5 129.25,-51.5 123.25,-57.5 117.25,-57.5\"/>\n",
       "<text text-anchor=\"start\" x=\"14.75\" y=\"-40.2\" font-family=\"Helvetica,sans-Serif\" font-size=\"14.00\">entropy = 0.999</text>\n",
       "<text text-anchor=\"start\" x=\"13.25\" y=\"-23.7\" font-family=\"Helvetica,sans-Serif\" font-size=\"14.00\">samples = 1033</text>\n",
       "<text text-anchor=\"start\" x=\"8\" y=\"-7.2\" font-family=\"Helvetica,sans-Serif\" font-size=\"14.00\">value = [501, 532]</text>\n",
       "</g>\n",
       "<!-- 2&#45;&gt;3 -->\n",
       "<g id=\"edge3\" class=\"edge\">\n",
       "<title>2&#45;&gt;3</title>\n",
       "<path fill=\"none\" stroke=\"black\" d=\"M158.14,-93.21C144.13,-83.7 129.08,-73.48 115.22,-64.09\"/>\n",
       "<polygon fill=\"black\" stroke=\"black\" points=\"117.35,-61.3 107.11,-58.58 113.42,-67.09 117.35,-61.3\"/>\n",
       "</g>\n",
       "<!-- 4 -->\n",
       "<g id=\"node5\" class=\"node\">\n",
       "<title>4</title>\n",
       "<path fill=\"#fdf4ed\" stroke=\"black\" d=\"M264.25,-57.5C264.25,-57.5 159,-57.5 159,-57.5 153,-57.5 147,-51.5 147,-45.5 147,-45.5 147,-12 147,-12 147,-6 153,0 159,0 159,0 264.25,0 264.25,0 270.25,0 276.25,-6 276.25,-12 276.25,-12 276.25,-45.5 276.25,-45.5 276.25,-51.5 270.25,-57.5 264.25,-57.5\"/>\n",
       "<text text-anchor=\"start\" x=\"161.75\" y=\"-40.2\" font-family=\"Helvetica,sans-Serif\" font-size=\"14.00\">entropy = 0.998</text>\n",
       "<text text-anchor=\"start\" x=\"164.38\" y=\"-23.7\" font-family=\"Helvetica,sans-Serif\" font-size=\"14.00\">samples = 613</text>\n",
       "<text text-anchor=\"start\" x=\"155\" y=\"-7.2\" font-family=\"Helvetica,sans-Serif\" font-size=\"14.00\">value = [321, 292]</text>\n",
       "</g>\n",
       "<!-- 2&#45;&gt;4 -->\n",
       "<g id=\"edge4\" class=\"edge\">\n",
       "<title>2&#45;&gt;4</title>\n",
       "<path fill=\"none\" stroke=\"black\" d=\"M211.62,-93.21C211.62,-85.35 211.62,-77 211.62,-69.03\"/>\n",
       "<polygon fill=\"black\" stroke=\"black\" points=\"215.13,-69.24 211.63,-59.24 208.13,-69.24 215.13,-69.24\"/>\n",
       "</g>\n",
       "<!-- 6 -->\n",
       "<g id=\"node7\" class=\"node\">\n",
       "<title>6</title>\n",
       "<path fill=\"#48a5e7\" stroke=\"black\" d=\"M398.5,-57.5C398.5,-57.5 306.75,-57.5 306.75,-57.5 300.75,-57.5 294.75,-51.5 294.75,-45.5 294.75,-45.5 294.75,-12 294.75,-12 294.75,-6 300.75,0 306.75,0 306.75,0 398.5,0 398.5,0 404.5,0 410.5,-6 410.5,-12 410.5,-12 410.5,-45.5 410.5,-45.5 410.5,-51.5 404.5,-57.5 398.5,-57.5\"/>\n",
       "<text text-anchor=\"start\" x=\"302.75\" y=\"-40.2\" font-family=\"Helvetica,sans-Serif\" font-size=\"14.00\">entropy = 0.371</text>\n",
       "<text text-anchor=\"start\" x=\"309.5\" y=\"-23.7\" font-family=\"Helvetica,sans-Serif\" font-size=\"14.00\">samples = 14</text>\n",
       "<text text-anchor=\"start\" x=\"308.38\" y=\"-7.2\" font-family=\"Helvetica,sans-Serif\" font-size=\"14.00\">value = [1, 13]</text>\n",
       "</g>\n",
       "<!-- 5&#45;&gt;6 -->\n",
       "<g id=\"edge6\" class=\"edge\">\n",
       "<title>5&#45;&gt;6</title>\n",
       "<path fill=\"none\" stroke=\"black\" d=\"M385.7,-93.21C381.42,-84.98 376.85,-76.22 372.52,-67.92\"/>\n",
       "<polygon fill=\"black\" stroke=\"black\" points=\"375.64,-66.32 367.91,-59.07 369.43,-69.56 375.64,-66.32\"/>\n",
       "</g>\n",
       "<!-- 7 -->\n",
       "<g id=\"node8\" class=\"node\">\n",
       "<title>7</title>\n",
       "<path fill=\"#f6d5bd\" stroke=\"black\" d=\"M532.5,-57.5C532.5,-57.5 440.75,-57.5 440.75,-57.5 434.75,-57.5 428.75,-51.5 428.75,-45.5 428.75,-45.5 428.75,-12 428.75,-12 428.75,-6 434.75,0 440.75,0 440.75,0 532.5,0 532.5,0 538.5,0 544.5,-6 544.5,-12 544.5,-12 544.5,-45.5 544.5,-45.5 544.5,-51.5 538.5,-57.5 532.5,-57.5\"/>\n",
       "<text text-anchor=\"start\" x=\"436.75\" y=\"-40.2\" font-family=\"Helvetica,sans-Serif\" font-size=\"14.00\">entropy = 0.971</text>\n",
       "<text text-anchor=\"start\" x=\"447.62\" y=\"-23.7\" font-family=\"Helvetica,sans-Serif\" font-size=\"14.00\">samples = 5</text>\n",
       "<text text-anchor=\"start\" x=\"446.5\" y=\"-7.2\" font-family=\"Helvetica,sans-Serif\" font-size=\"14.00\">value = [3, 2]</text>\n",
       "</g>\n",
       "<!-- 5&#45;&gt;7 -->\n",
       "<g id=\"edge7\" class=\"edge\">\n",
       "<title>5&#45;&gt;7</title>\n",
       "<path fill=\"none\" stroke=\"black\" d=\"M434.46,-93.21C441.6,-84.52 449.22,-75.25 456.38,-66.54\"/>\n",
       "<polygon fill=\"black\" stroke=\"black\" points=\"459.02,-68.84 462.66,-58.9 453.61,-64.4 459.02,-68.84\"/>\n",
       "</g>\n",
       "<!-- 9 -->\n",
       "<g id=\"node10\" class=\"node\">\n",
       "<title>9</title>\n",
       "<path fill=\"#95cbf1\" stroke=\"black\" d=\"M705.75,-167.5C705.75,-167.5 567.5,-167.5 567.5,-167.5 561.5,-167.5 555.5,-161.5 555.5,-155.5 555.5,-155.5 555.5,-105.5 555.5,-105.5 555.5,-99.5 561.5,-93.5 567.5,-93.5 567.5,-93.5 705.75,-93.5 705.75,-93.5 711.75,-93.5 717.75,-99.5 717.75,-105.5 717.75,-105.5 717.75,-155.5 717.75,-155.5 717.75,-161.5 711.75,-167.5 705.75,-167.5\"/>\n",
       "<text text-anchor=\"start\" x=\"563.5\" y=\"-150.2\" font-family=\"Helvetica,sans-Serif\" font-size=\"14.00\">número de visitas ≤ 0.5</text>\n",
       "<text text-anchor=\"start\" x=\"586.75\" y=\"-133.7\" font-family=\"Helvetica,sans-Serif\" font-size=\"14.00\">entropy = 0.902</text>\n",
       "<text text-anchor=\"start\" x=\"593.5\" y=\"-117.2\" font-family=\"Helvetica,sans-Serif\" font-size=\"14.00\">samples = 22</text>\n",
       "<text text-anchor=\"start\" x=\"592.38\" y=\"-100.7\" font-family=\"Helvetica,sans-Serif\" font-size=\"14.00\">value = [7, 15]</text>\n",
       "</g>\n",
       "<!-- 8&#45;&gt;9 -->\n",
       "<g id=\"edge9\" class=\"edge\">\n",
       "<title>8&#45;&gt;9</title>\n",
       "<path fill=\"none\" stroke=\"black\" d=\"M636.62,-203.24C636.62,-195.49 636.62,-187.2 636.62,-179.1\"/>\n",
       "<polygon fill=\"black\" stroke=\"black\" points=\"640.13,-179.36 636.63,-169.36 633.13,-179.36 640.13,-179.36\"/>\n",
       "</g>\n",
       "<!-- 12 -->\n",
       "<g id=\"node13\" class=\"node\">\n",
       "<title>12</title>\n",
       "<path fill=\"#f9e1cf\" stroke=\"black\" d=\"M957.75,-167.5C957.75,-167.5 771.5,-167.5 771.5,-167.5 765.5,-167.5 759.5,-161.5 759.5,-155.5 759.5,-155.5 759.5,-105.5 759.5,-105.5 759.5,-99.5 765.5,-93.5 771.5,-93.5 771.5,-93.5 957.75,-93.5 957.75,-93.5 963.75,-93.5 969.75,-99.5 969.75,-105.5 969.75,-105.5 969.75,-155.5 969.75,-155.5 969.75,-161.5 963.75,-167.5 957.75,-167.5\"/>\n",
       "<text text-anchor=\"start\" x=\"767.5\" y=\"-150.2\" font-family=\"Helvetica,sans-Serif\" font-size=\"14.00\">duración de la sesión ≤ 335.78</text>\n",
       "<text text-anchor=\"start\" x=\"814.75\" y=\"-133.7\" font-family=\"Helvetica,sans-Serif\" font-size=\"14.00\">entropy = 0.986</text>\n",
       "<text text-anchor=\"start\" x=\"817.38\" y=\"-117.2\" font-family=\"Helvetica,sans-Serif\" font-size=\"14.00\">samples = 533</text>\n",
       "<text text-anchor=\"start\" x=\"808\" y=\"-100.7\" font-family=\"Helvetica,sans-Serif\" font-size=\"14.00\">value = [303, 230]</text>\n",
       "</g>\n",
       "<!-- 8&#45;&gt;12 -->\n",
       "<g id=\"edge12\" class=\"edge\">\n",
       "<title>8&#45;&gt;12</title>\n",
       "<path fill=\"none\" stroke=\"black\" d=\"M713.5,-203.09C734.05,-193.35 756.41,-182.76 777.48,-172.78\"/>\n",
       "<polygon fill=\"black\" stroke=\"black\" points=\"778.79,-176.03 786.33,-168.59 775.79,-169.7 778.79,-176.03\"/>\n",
       "</g>\n",
       "<!-- 10 -->\n",
       "<g id=\"node11\" class=\"node\">\n",
       "<title>10</title>\n",
       "<path fill=\"#e58139\" stroke=\"black\" d=\"M650.25,-57.5C650.25,-57.5 575,-57.5 575,-57.5 569,-57.5 563,-51.5 563,-45.5 563,-45.5 563,-12 563,-12 563,-6 569,0 575,0 575,0 650.25,0 650.25,0 656.25,0 662.25,-6 662.25,-12 662.25,-12 662.25,-45.5 662.25,-45.5 662.25,-51.5 656.25,-57.5 650.25,-57.5\"/>\n",
       "<text text-anchor=\"start\" x=\"571\" y=\"-40.2\" font-family=\"Helvetica,sans-Serif\" font-size=\"14.00\">entropy = 0.0</text>\n",
       "<text text-anchor=\"start\" x=\"573.62\" y=\"-23.7\" font-family=\"Helvetica,sans-Serif\" font-size=\"14.00\">samples = 2</text>\n",
       "<text text-anchor=\"start\" x=\"572.5\" y=\"-7.2\" font-family=\"Helvetica,sans-Serif\" font-size=\"14.00\">value = [2, 0]</text>\n",
       "</g>\n",
       "<!-- 9&#45;&gt;10 -->\n",
       "<g id=\"edge10\" class=\"edge\">\n",
       "<title>9&#45;&gt;10</title>\n",
       "<path fill=\"none\" stroke=\"black\" d=\"M627.89,-93.21C625.98,-85.25 623.95,-76.81 622.01,-68.75\"/>\n",
       "<polygon fill=\"black\" stroke=\"black\" points=\"625.45,-68.1 619.71,-59.2 618.65,-69.74 625.45,-68.1\"/>\n",
       "</g>\n",
       "<!-- 11 -->\n",
       "<g id=\"node12\" class=\"node\">\n",
       "<title>11</title>\n",
       "<path fill=\"#7bbeee\" stroke=\"black\" d=\"M784.5,-57.5C784.5,-57.5 692.75,-57.5 692.75,-57.5 686.75,-57.5 680.75,-51.5 680.75,-45.5 680.75,-45.5 680.75,-12 680.75,-12 680.75,-6 686.75,0 692.75,0 692.75,0 784.5,0 784.5,0 790.5,0 796.5,-6 796.5,-12 796.5,-12 796.5,-45.5 796.5,-45.5 796.5,-51.5 790.5,-57.5 784.5,-57.5\"/>\n",
       "<text text-anchor=\"start\" x=\"688.75\" y=\"-40.2\" font-family=\"Helvetica,sans-Serif\" font-size=\"14.00\">entropy = 0.811</text>\n",
       "<text text-anchor=\"start\" x=\"695.5\" y=\"-23.7\" font-family=\"Helvetica,sans-Serif\" font-size=\"14.00\">samples = 20</text>\n",
       "<text text-anchor=\"start\" x=\"694.38\" y=\"-7.2\" font-family=\"Helvetica,sans-Serif\" font-size=\"14.00\">value = [5, 15]</text>\n",
       "</g>\n",
       "<!-- 9&#45;&gt;11 -->\n",
       "<g id=\"edge11\" class=\"edge\">\n",
       "<title>9&#45;&gt;11</title>\n",
       "<path fill=\"none\" stroke=\"black\" d=\"M673.74,-93.21C682.9,-84.25 692.7,-74.66 701.84,-65.72\"/>\n",
       "<polygon fill=\"black\" stroke=\"black\" points=\"704.23,-68.28 708.93,-58.79 699.34,-63.28 704.23,-68.28\"/>\n",
       "</g>\n",
       "<!-- 13 -->\n",
       "<g id=\"node14\" class=\"node\">\n",
       "<title>13</title>\n",
       "<path fill=\"#e58139\" stroke=\"black\" d=\"M902.25,-57.5C902.25,-57.5 827,-57.5 827,-57.5 821,-57.5 815,-51.5 815,-45.5 815,-45.5 815,-12 815,-12 815,-6 821,0 827,0 827,0 902.25,0 902.25,0 908.25,0 914.25,-6 914.25,-12 914.25,-12 914.25,-45.5 914.25,-45.5 914.25,-51.5 908.25,-57.5 902.25,-57.5\"/>\n",
       "<text text-anchor=\"start\" x=\"823\" y=\"-40.2\" font-family=\"Helvetica,sans-Serif\" font-size=\"14.00\">entropy = 0.0</text>\n",
       "<text text-anchor=\"start\" x=\"825.62\" y=\"-23.7\" font-family=\"Helvetica,sans-Serif\" font-size=\"14.00\">samples = 4</text>\n",
       "<text text-anchor=\"start\" x=\"824.5\" y=\"-7.2\" font-family=\"Helvetica,sans-Serif\" font-size=\"14.00\">value = [4, 0]</text>\n",
       "</g>\n",
       "<!-- 12&#45;&gt;13 -->\n",
       "<g id=\"edge13\" class=\"edge\">\n",
       "<title>12&#45;&gt;13</title>\n",
       "<path fill=\"none\" stroke=\"black\" d=\"M864.62,-93.21C864.62,-85.35 864.62,-77 864.62,-69.03\"/>\n",
       "<polygon fill=\"black\" stroke=\"black\" points=\"868.13,-69.24 864.63,-59.24 861.13,-69.24 868.13,-69.24\"/>\n",
       "</g>\n",
       "<!-- 14 -->\n",
       "<g id=\"node15\" class=\"node\">\n",
       "<title>14</title>\n",
       "<path fill=\"#f9e2d1\" stroke=\"black\" d=\"M1049.25,-57.5C1049.25,-57.5 944,-57.5 944,-57.5 938,-57.5 932,-51.5 932,-45.5 932,-45.5 932,-12 932,-12 932,-6 938,0 944,0 944,0 1049.25,0 1049.25,0 1055.25,0 1061.25,-6 1061.25,-12 1061.25,-12 1061.25,-45.5 1061.25,-45.5 1061.25,-51.5 1055.25,-57.5 1049.25,-57.5\"/>\n",
       "<text text-anchor=\"start\" x=\"946.75\" y=\"-40.2\" font-family=\"Helvetica,sans-Serif\" font-size=\"14.00\">entropy = 0.988</text>\n",
       "<text text-anchor=\"start\" x=\"949.38\" y=\"-23.7\" font-family=\"Helvetica,sans-Serif\" font-size=\"14.00\">samples = 529</text>\n",
       "<text text-anchor=\"start\" x=\"940\" y=\"-7.2\" font-family=\"Helvetica,sans-Serif\" font-size=\"14.00\">value = [299, 230]</text>\n",
       "</g>\n",
       "<!-- 12&#45;&gt;14 -->\n",
       "<g id=\"edge14\" class=\"edge\">\n",
       "<title>12&#45;&gt;14</title>\n",
       "<path fill=\"none\" stroke=\"black\" d=\"M912.65,-93.21C924.99,-83.88 938.23,-73.88 950.47,-64.63\"/>\n",
       "<polygon fill=\"black\" stroke=\"black\" points=\"952.53,-67.46 958.39,-58.64 948.31,-61.88 952.53,-67.46\"/>\n",
       "</g>\n",
       "</g>\n",
       "</svg>\n"
      ],
      "text/plain": [
       "<graphviz.sources.Source at 0x281990ad110>"
      ]
     },
     "execution_count": 33,
     "metadata": {},
     "output_type": "execute_result"
    }
   ],
   "source": [
    "features = X.columns\n",
    "targets =y\n",
    "data = export_graphviz(decision_tree_model, out_file = None, feature_names = features, filled = True, rounded = True, special_characters = True)\n",
    "graph = graphviz.Source(data)\n",
    "graph"
   ]
  },
  {
   "cell_type": "code",
   "execution_count": 34,
   "id": "8b867b7d",
   "metadata": {},
   "outputs": [],
   "source": [
    "#Las reglas que haria serian:\n",
    "#1) si la sesion duro mas de x minutos\n",
    "#2) si se visito mas de x cantidad de paginas"
   ]
  },
  {
   "cell_type": "code",
   "execution_count": 35,
   "id": "3e904be7",
   "metadata": {},
   "outputs": [],
   "source": [
    "from sklearn.metrics import precision_score, recall_score, accuracy_score, confusion_matrix"
   ]
  },
  {
   "cell_type": "code",
   "execution_count": 36,
   "id": "e76117ef",
   "metadata": {},
   "outputs": [
    {
     "data": {
      "image/png": "[encoded data removed]",
      "text/plain": [
       "<Figure size 1500x1000 with 2 Axes>"
      ]
     },
     "metadata": {},
     "output_type": "display_data"
    }
   ],
   "source": [
    "cm_dt = confusion_matrix(y_true, y_pred)\n",
    "# Visualización de la matriz de confusión\n",
    "f, ax = plt.subplots(figsize=(15, 10))\n",
    "sns.heatmap(cm_dt, annot=True, linewidth=0.5, fmt=\".0f\", cmap='viridis', ax=ax)\n",
    "plt.xlabel(\"Predicho\")\n",
    "plt.ylabel(\"Real\")\n",
    "plt.title('Matriz de Confusión')\n",
    "plt.show()"
   ]
  },
  {
   "cell_type": "code",
   "execution_count": 37,
   "id": "d6393d7c",
   "metadata": {},
   "outputs": [
    {
     "data": {
      "text/plain": [
       "0.4981949458483754"
      ]
     },
     "execution_count": 37,
     "metadata": {},
     "output_type": "execute_result"
    }
   ],
   "source": [
    "precision_score(y_true, y_pred)"
   ]
  },
  {
   "cell_type": "code",
   "execution_count": 38,
   "id": "9c4f5ac0",
   "metadata": {},
   "outputs": [
    {
     "data": {
      "text/plain": [
       "0.518796992481203"
      ]
     },
     "execution_count": 38,
     "metadata": {},
     "output_type": "execute_result"
    }
   ],
   "source": [
    "recall_score(y_true, y_pred)"
   ]
  },
  {
   "cell_type": "code",
   "execution_count": 39,
   "id": "3dc42c27",
   "metadata": {},
   "outputs": [
    {
     "data": {
      "text/plain": [
       "0.5197841726618705"
      ]
     },
     "execution_count": 39,
     "metadata": {},
     "output_type": "execute_result"
    }
   ],
   "source": [
    "accuracy_score(y_true, y_pred)"
   ]
  },
  {
   "cell_type": "code",
   "execution_count": 40,
   "id": "5492e705",
   "metadata": {},
   "outputs": [],
   "source": [
    "#El precision score es la posibilidad de que no clasifique como positivo una muestra negativa"
   ]
  },
  {
   "cell_type": "code",
   "execution_count": 41,
   "id": "13fee6ba",
   "metadata": {},
   "outputs": [],
   "source": [
    "ing = pd.read_csv('ingreso_para_entrenar.csv')"
   ]
  },
  {
   "cell_type": "code",
   "execution_count": 42,
   "id": "da853044",
   "metadata": {},
   "outputs": [
    {
     "data": {
      "text/html": [
       "<div>\n",
       "<style scoped>\n",
       "    .dataframe tbody tr th:only-of-type {\n",
       "        vertical-align: middle;\n",
       "    }\n",
       "\n",
       "    .dataframe tbody tr th {\n",
       "        vertical-align: top;\n",
       "    }\n",
       "\n",
       "    .dataframe thead th {\n",
       "        text-align: right;\n",
       "    }\n",
       "</style>\n",
       "<table border=\"1\" class=\"dataframe\">\n",
       "  <thead>\n",
       "    <tr style=\"text-align: right;\">\n",
       "      <th></th>\n",
       "      <th>Unnamed: 0</th>\n",
       "      <th>gasto_alimentacion</th>\n",
       "      <th>gasto_tecnologia</th>\n",
       "      <th>gasto_moda</th>\n",
       "      <th>frecuencia_compra</th>\n",
       "      <th>promociones_utilizadas</th>\n",
       "      <th>distancia_a_hipermercados</th>\n",
       "      <th>ingreso_cliente</th>\n",
       "    </tr>\n",
       "  </thead>\n",
       "  <tbody>\n",
       "    <tr>\n",
       "      <th>0</th>\n",
       "      <td>0</td>\n",
       "      <td>437.086107</td>\n",
       "      <td>318.442747</td>\n",
       "      <td>246.279263</td>\n",
       "      <td>7.0</td>\n",
       "      <td>6</td>\n",
       "      <td>56.235016</td>\n",
       "      <td>319.511016</td>\n",
       "    </tr>\n",
       "    <tr>\n",
       "      <th>1</th>\n",
       "      <td>1</td>\n",
       "      <td>955.642876</td>\n",
       "      <td>835.756374</td>\n",
       "      <td>235.234099</td>\n",
       "      <td>3.0</td>\n",
       "      <td>8</td>\n",
       "      <td>52.603747</td>\n",
       "      <td>430.490885</td>\n",
       "    </tr>\n",
       "    <tr>\n",
       "      <th>2</th>\n",
       "      <td>2</td>\n",
       "      <td>758.794548</td>\n",
       "      <td>1315.771462</td>\n",
       "      <td>729.690935</td>\n",
       "      <td>5.0</td>\n",
       "      <td>1</td>\n",
       "      <td>82.980012</td>\n",
       "      <td>643.483521</td>\n",
       "    </tr>\n",
       "    <tr>\n",
       "      <th>3</th>\n",
       "      <td>3</td>\n",
       "      <td>638.792636</td>\n",
       "      <td>1111.726085</td>\n",
       "      <td>237.159650</td>\n",
       "      <td>3.0</td>\n",
       "      <td>3</td>\n",
       "      <td>50.024691</td>\n",
       "      <td>322.259467</td>\n",
       "    </tr>\n",
       "    <tr>\n",
       "      <th>4</th>\n",
       "      <td>4</td>\n",
       "      <td>240.416776</td>\n",
       "      <td>1219.513664</td>\n",
       "      <td>253.962295</td>\n",
       "      <td>NaN</td>\n",
       "      <td>3</td>\n",
       "      <td>38.493164</td>\n",
       "      <td>366.779166</td>\n",
       "    </tr>\n",
       "    <tr>\n",
       "      <th>...</th>\n",
       "      <td>...</td>\n",
       "      <td>...</td>\n",
       "      <td>...</td>\n",
       "      <td>...</td>\n",
       "      <td>...</td>\n",
       "      <td>...</td>\n",
       "      <td>...</td>\n",
       "      <td>...</td>\n",
       "    </tr>\n",
       "    <tr>\n",
       "      <th>995</th>\n",
       "      <td>995</td>\n",
       "      <td>182.423866</td>\n",
       "      <td>1002.584977</td>\n",
       "      <td>698.971819</td>\n",
       "      <td>3.0</td>\n",
       "      <td>0</td>\n",
       "      <td>89.929168</td>\n",
       "      <td>532.971139</td>\n",
       "    </tr>\n",
       "    <tr>\n",
       "      <th>996</th>\n",
       "      <td>996</td>\n",
       "      <td>925.582218</td>\n",
       "      <td>1437.091201</td>\n",
       "      <td>167.954906</td>\n",
       "      <td>4.0</td>\n",
       "      <td>6</td>\n",
       "      <td>64.596994</td>\n",
       "      <td>589.117449</td>\n",
       "    </tr>\n",
       "    <tr>\n",
       "      <th>997</th>\n",
       "      <td>997</td>\n",
       "      <td>223.136768</td>\n",
       "      <td>149.989124</td>\n",
       "      <td>282.340894</td>\n",
       "      <td>6.0</td>\n",
       "      <td>4</td>\n",
       "      <td>43.710203</td>\n",
       "      <td>178.161379</td>\n",
       "    </tr>\n",
       "    <tr>\n",
       "      <th>998</th>\n",
       "      <td>998</td>\n",
       "      <td>955.213618</td>\n",
       "      <td>132.729346</td>\n",
       "      <td>267.534149</td>\n",
       "      <td>4.0</td>\n",
       "      <td>3</td>\n",
       "      <td>38.721009</td>\n",
       "      <td>420.855709</td>\n",
       "    </tr>\n",
       "    <tr>\n",
       "      <th>999</th>\n",
       "      <td>999</td>\n",
       "      <td>501.405196</td>\n",
       "      <td>459.171258</td>\n",
       "      <td>703.560526</td>\n",
       "      <td>3.0</td>\n",
       "      <td>3</td>\n",
       "      <td>68.721096</td>\n",
       "      <td>301.865341</td>\n",
       "    </tr>\n",
       "  </tbody>\n",
       "</table>\n",
       "<p>1000 rows × 8 columns</p>\n",
       "</div>"
      ],
      "text/plain": [
       "     Unnamed: 0  gasto_alimentacion  gasto_tecnologia  gasto_moda  \\\n",
       "0             0          437.086107        318.442747  246.279263   \n",
       "1             1          955.642876        835.756374  235.234099   \n",
       "2             2          758.794548       1315.771462  729.690935   \n",
       "3             3          638.792636       1111.726085  237.159650   \n",
       "4             4          240.416776       1219.513664  253.962295   \n",
       "..          ...                 ...               ...         ...   \n",
       "995         995          182.423866       1002.584977  698.971819   \n",
       "996         996          925.582218       1437.091201  167.954906   \n",
       "997         997          223.136768        149.989124  282.340894   \n",
       "998         998          955.213618        132.729346  267.534149   \n",
       "999         999          501.405196        459.171258  703.560526   \n",
       "\n",
       "     frecuencia_compra  promociones_utilizadas  distancia_a_hipermercados  \\\n",
       "0                  7.0                       6                  56.235016   \n",
       "1                  3.0                       8                  52.603747   \n",
       "2                  5.0                       1                  82.980012   \n",
       "3                  3.0                       3                  50.024691   \n",
       "4                  NaN                       3                  38.493164   \n",
       "..                 ...                     ...                        ...   \n",
       "995                3.0                       0                  89.929168   \n",
       "996                4.0                       6                  64.596994   \n",
       "997                6.0                       4                  43.710203   \n",
       "998                4.0                       3                  38.721009   \n",
       "999                3.0                       3                  68.721096   \n",
       "\n",
       "     ingreso_cliente  \n",
       "0         319.511016  \n",
       "1         430.490885  \n",
       "2         643.483521  \n",
       "3         322.259467  \n",
       "4         366.779166  \n",
       "..               ...  \n",
       "995       532.971139  \n",
       "996       589.117449  \n",
       "997       178.161379  \n",
       "998       420.855709  \n",
       "999       301.865341  \n",
       "\n",
       "[1000 rows x 8 columns]"
      ]
     },
     "execution_count": 42,
     "metadata": {},
     "output_type": "execute_result"
    }
   ],
   "source": [
    "ing"
   ]
  },
  {
   "cell_type": "code",
   "execution_count": 43,
   "id": "ff7acb20",
   "metadata": {},
   "outputs": [
    {
     "data": {
      "text/plain": [
       "Unnamed: 0                    0\n",
       "gasto_alimentacion            0\n",
       "gasto_tecnologia              0\n",
       "gasto_moda                   50\n",
       "frecuencia_compra            80\n",
       "promociones_utilizadas        0\n",
       "distancia_a_hipermercados     0\n",
       "ingreso_cliente               0\n",
       "dtype: int64"
      ]
     },
     "execution_count": 43,
     "metadata": {},
     "output_type": "execute_result"
    }
   ],
   "source": [
    "ing.isna().sum()"
   ]
  },
  {
   "cell_type": "code",
   "execution_count": 44,
   "id": "ad40e41a",
   "metadata": {
    "scrolled": false
   },
   "outputs": [
    {
     "data": {
      "text/html": [
       "<div>\n",
       "<style scoped>\n",
       "    .dataframe tbody tr th:only-of-type {\n",
       "        vertical-align: middle;\n",
       "    }\n",
       "\n",
       "    .dataframe tbody tr th {\n",
       "        vertical-align: top;\n",
       "    }\n",
       "\n",
       "    .dataframe thead th {\n",
       "        text-align: right;\n",
       "    }\n",
       "</style>\n",
       "<table border=\"1\" class=\"dataframe\">\n",
       "  <thead>\n",
       "    <tr style=\"text-align: right;\">\n",
       "      <th></th>\n",
       "      <th>Unnamed: 0</th>\n",
       "      <th>gasto_alimentacion</th>\n",
       "      <th>gasto_tecnologia</th>\n",
       "      <th>gasto_moda</th>\n",
       "      <th>frecuencia_compra</th>\n",
       "      <th>promociones_utilizadas</th>\n",
       "      <th>distancia_a_hipermercados</th>\n",
       "      <th>ingreso_cliente</th>\n",
       "    </tr>\n",
       "  </thead>\n",
       "  <tbody>\n",
       "    <tr>\n",
       "      <th>10</th>\n",
       "      <td>10</td>\n",
       "      <td>118.526045</td>\n",
       "      <td>370.753691</td>\n",
       "      <td>NaN</td>\n",
       "      <td>NaN</td>\n",
       "      <td>9</td>\n",
       "      <td>46.286705</td>\n",
       "      <td>-82.995895</td>\n",
       "    </tr>\n",
       "    <tr>\n",
       "      <th>12</th>\n",
       "      <td>12</td>\n",
       "      <td>849.198377</td>\n",
       "      <td>1418.886043</td>\n",
       "      <td>NaN</td>\n",
       "      <td>6.0</td>\n",
       "      <td>1</td>\n",
       "      <td>70.624531</td>\n",
       "      <td>941.373707</td>\n",
       "    </tr>\n",
       "    <tr>\n",
       "      <th>37</th>\n",
       "      <td>37</td>\n",
       "      <td>187.904903</td>\n",
       "      <td>1100.911819</td>\n",
       "      <td>NaN</td>\n",
       "      <td>0.0</td>\n",
       "      <td>5</td>\n",
       "      <td>26.937772</td>\n",
       "      <td>109.212050</td>\n",
       "    </tr>\n",
       "    <tr>\n",
       "      <th>45</th>\n",
       "      <td>45</td>\n",
       "      <td>696.270056</td>\n",
       "      <td>943.001623</td>\n",
       "      <td>NaN</td>\n",
       "      <td>4.0</td>\n",
       "      <td>0</td>\n",
       "      <td>93.696170</td>\n",
       "      <td>617.921474</td>\n",
       "    </tr>\n",
       "    <tr>\n",
       "      <th>55</th>\n",
       "      <td>55</td>\n",
       "      <td>929.686812</td>\n",
       "      <td>558.532132</td>\n",
       "      <td>NaN</td>\n",
       "      <td>1.0</td>\n",
       "      <td>5</td>\n",
       "      <td>48.992796</td>\n",
       "      <td>301.020862</td>\n",
       "    </tr>\n",
       "  </tbody>\n",
       "</table>\n",
       "</div>"
      ],
      "text/plain": [
       "    Unnamed: 0  gasto_alimentacion  gasto_tecnologia  gasto_moda  \\\n",
       "10          10          118.526045        370.753691         NaN   \n",
       "12          12          849.198377       1418.886043         NaN   \n",
       "37          37          187.904903       1100.911819         NaN   \n",
       "45          45          696.270056        943.001623         NaN   \n",
       "55          55          929.686812        558.532132         NaN   \n",
       "\n",
       "    frecuencia_compra  promociones_utilizadas  distancia_a_hipermercados  \\\n",
       "10                NaN                       9                  46.286705   \n",
       "12                6.0                       1                  70.624531   \n",
       "37                0.0                       5                  26.937772   \n",
       "45                4.0                       0                  93.696170   \n",
       "55                1.0                       5                  48.992796   \n",
       "\n",
       "    ingreso_cliente  \n",
       "10       -82.995895  \n",
       "12       941.373707  \n",
       "37       109.212050  \n",
       "45       617.921474  \n",
       "55       301.020862  "
      ]
     },
     "execution_count": 44,
     "metadata": {},
     "output_type": "execute_result"
    }
   ],
   "source": [
    "ing[ing['gasto_moda'].isna()].head()"
   ]
  },
  {
   "cell_type": "code",
   "execution_count": 45,
   "id": "aa201209",
   "metadata": {},
   "outputs": [
    {
     "data": {
      "text/html": [
       "<div>\n",
       "<style scoped>\n",
       "    .dataframe tbody tr th:only-of-type {\n",
       "        vertical-align: middle;\n",
       "    }\n",
       "\n",
       "    .dataframe tbody tr th {\n",
       "        vertical-align: top;\n",
       "    }\n",
       "\n",
       "    .dataframe thead th {\n",
       "        text-align: right;\n",
       "    }\n",
       "</style>\n",
       "<table border=\"1\" class=\"dataframe\">\n",
       "  <thead>\n",
       "    <tr style=\"text-align: right;\">\n",
       "      <th></th>\n",
       "      <th>Unnamed: 0</th>\n",
       "      <th>gasto_alimentacion</th>\n",
       "      <th>gasto_tecnologia</th>\n",
       "      <th>gasto_moda</th>\n",
       "      <th>frecuencia_compra</th>\n",
       "      <th>promociones_utilizadas</th>\n",
       "      <th>distancia_a_hipermercados</th>\n",
       "      <th>ingreso_cliente</th>\n",
       "    </tr>\n",
       "  </thead>\n",
       "  <tbody>\n",
       "    <tr>\n",
       "      <th>4</th>\n",
       "      <td>4</td>\n",
       "      <td>240.416776</td>\n",
       "      <td>1219.513664</td>\n",
       "      <td>253.962295</td>\n",
       "      <td>NaN</td>\n",
       "      <td>3</td>\n",
       "      <td>38.493164</td>\n",
       "      <td>366.779166</td>\n",
       "    </tr>\n",
       "    <tr>\n",
       "      <th>10</th>\n",
       "      <td>10</td>\n",
       "      <td>118.526045</td>\n",
       "      <td>370.753691</td>\n",
       "      <td>NaN</td>\n",
       "      <td>NaN</td>\n",
       "      <td>9</td>\n",
       "      <td>46.286705</td>\n",
       "      <td>-82.995895</td>\n",
       "    </tr>\n",
       "    <tr>\n",
       "      <th>21</th>\n",
       "      <td>21</td>\n",
       "      <td>225.544475</td>\n",
       "      <td>481.156061</td>\n",
       "      <td>470.126138</td>\n",
       "      <td>NaN</td>\n",
       "      <td>0</td>\n",
       "      <td>40.322479</td>\n",
       "      <td>241.394123</td>\n",
       "    </tr>\n",
       "    <tr>\n",
       "      <th>22</th>\n",
       "      <td>22</td>\n",
       "      <td>362.930184</td>\n",
       "      <td>1390.374483</td>\n",
       "      <td>752.616847</td>\n",
       "      <td>NaN</td>\n",
       "      <td>2</td>\n",
       "      <td>106.470497</td>\n",
       "      <td>702.183467</td>\n",
       "    </tr>\n",
       "    <tr>\n",
       "      <th>28</th>\n",
       "      <td>28</td>\n",
       "      <td>633.173112</td>\n",
       "      <td>512.695686</td>\n",
       "      <td>242.397547</td>\n",
       "      <td>NaN</td>\n",
       "      <td>0</td>\n",
       "      <td>58.885328</td>\n",
       "      <td>525.972505</td>\n",
       "    </tr>\n",
       "  </tbody>\n",
       "</table>\n",
       "</div>"
      ],
      "text/plain": [
       "    Unnamed: 0  gasto_alimentacion  gasto_tecnologia  gasto_moda  \\\n",
       "4            4          240.416776       1219.513664  253.962295   \n",
       "10          10          118.526045        370.753691         NaN   \n",
       "21          21          225.544475        481.156061  470.126138   \n",
       "22          22          362.930184       1390.374483  752.616847   \n",
       "28          28          633.173112        512.695686  242.397547   \n",
       "\n",
       "    frecuencia_compra  promociones_utilizadas  distancia_a_hipermercados  \\\n",
       "4                 NaN                       3                  38.493164   \n",
       "10                NaN                       9                  46.286705   \n",
       "21                NaN                       0                  40.322479   \n",
       "22                NaN                       2                 106.470497   \n",
       "28                NaN                       0                  58.885328   \n",
       "\n",
       "    ingreso_cliente  \n",
       "4        366.779166  \n",
       "10       -82.995895  \n",
       "21       241.394123  \n",
       "22       702.183467  \n",
       "28       525.972505  "
      ]
     },
     "execution_count": 45,
     "metadata": {},
     "output_type": "execute_result"
    }
   ],
   "source": [
    "ing[ing['frecuencia_compra'].isna()].head()"
   ]
  },
  {
   "cell_type": "code",
   "execution_count": 46,
   "id": "5f641b4f",
   "metadata": {},
   "outputs": [],
   "source": [
    "ing['gasto_moda'] = ing['gasto_moda'].fillna(0)"
   ]
  },
  {
   "cell_type": "code",
   "execution_count": 47,
   "id": "8f090d60",
   "metadata": {},
   "outputs": [],
   "source": [
    "ing['frecuencia_compra'] = ing['frecuencia_compra'].fillna(method='bfill', axis=0).fillna(0)"
   ]
  },
  {
   "cell_type": "code",
   "execution_count": 48,
   "id": "8e4a577a",
   "metadata": {},
   "outputs": [],
   "source": [
    "#gasto moda cambie por 0 porque no necesariamente tendria que tener gastos en moda"
   ]
  },
  {
   "cell_type": "code",
   "execution_count": 49,
   "id": "030e7ac2",
   "metadata": {},
   "outputs": [],
   "source": [
    "ing = ing.drop(columns = 'Unnamed: 0')"
   ]
  },
  {
   "cell_type": "code",
   "execution_count": 50,
   "id": "77634307",
   "metadata": {},
   "outputs": [
    {
     "data": {
      "text/plain": [
       "Index(['gasto_alimentacion', 'gasto_tecnologia', 'gasto_moda',\n",
       "       'frecuencia_compra', 'promociones_utilizadas',\n",
       "       'distancia_a_hipermercados', 'ingreso_cliente'],\n",
       "      dtype='object')"
      ]
     },
     "execution_count": 50,
     "metadata": {},
     "output_type": "execute_result"
    }
   ],
   "source": [
    "ing.columns"
   ]
  },
  {
   "cell_type": "code",
   "execution_count": 51,
   "id": "7e43eca2",
   "metadata": {},
   "outputs": [],
   "source": [
    "#En mi opinion habria que usar todas las variables, porque todas pueden aportar al modelo a simple vista."
   ]
  },
  {
   "cell_type": "code",
   "execution_count": 52,
   "id": "497dcdbb",
   "metadata": {},
   "outputs": [],
   "source": [
    "X = ing[['gasto_alimentacion', 'gasto_tecnologia', 'gasto_moda',\n",
    "       'frecuencia_compra', 'promociones_utilizadas',\n",
    "       'distancia_a_hipermercados']]\n",
    "y = ing['ingreso_cliente']"
   ]
  },
  {
   "cell_type": "code",
   "execution_count": 53,
   "id": "02f65ea7",
   "metadata": {},
   "outputs": [],
   "source": [
    "X_train, X_test, y_train, y_test = train_test_split(X, y, test_size = 0.2, random_state = 42)"
   ]
  },
  {
   "cell_type": "code",
   "execution_count": 54,
   "id": "352da5b3",
   "metadata": {},
   "outputs": [],
   "source": [
    "import statsmodels.api as sm\n",
    "X = sm.add_constant(X)\n",
    "modelo = sm.OLS(y, X).fit()"
   ]
  },
  {
   "cell_type": "code",
   "execution_count": 55,
   "id": "74d01492",
   "metadata": {},
   "outputs": [
    {
     "name": "stdout",
     "output_type": "stream",
     "text": [
      "                            OLS Regression Results                            \n",
      "==============================================================================\n",
      "Dep. Variable:        ingreso_cliente   R-squared:                       0.714\n",
      "Model:                            OLS   Adj. R-squared:                  0.712\n",
      "Method:                 Least Squares   F-statistic:                     413.6\n",
      "Date:                Thu, 30 Nov 2023   Prob (F-statistic):          5.29e-266\n",
      "Time:                        11:14:56   Log-Likelihood:                -6097.3\n",
      "No. Observations:                1000   AIC:                         1.221e+04\n",
      "Df Residuals:                     993   BIC:                         1.224e+04\n",
      "Df Model:                           6                                         \n",
      "Covariance Type:            nonrobust                                         \n",
      "=============================================================================================\n",
      "                                coef    std err          t      P>|t|      [0.025      0.975]\n",
      "---------------------------------------------------------------------------------------------\n",
      "const                         8.7096     18.526      0.470      0.638     -27.645      45.064\n",
      "gasto_alimentacion            0.3106      0.013     23.849      0.000       0.285       0.336\n",
      "gasto_tecnologia              0.1996      0.008     24.705      0.000       0.184       0.215\n",
      "gasto_moda                    0.0965      0.017      5.602      0.000       0.063       0.130\n",
      "frecuencia_compra            43.0598      1.659     25.949      0.000      39.803      46.316\n",
      "promociones_utilizadas      -29.5076      1.195    -24.684      0.000     -31.853     -27.162\n",
      "distancia_a_hipermercados     0.3615      0.232      1.558      0.120      -0.094       0.817\n",
      "==============================================================================\n",
      "Omnibus:                       20.992   Durbin-Watson:                   2.086\n",
      "Prob(Omnibus):                  0.000   Jarque-Bera (JB):               41.058\n",
      "Skew:                          -0.040   Prob(JB):                     1.21e-09\n",
      "Kurtosis:                       3.989   Cond. No.                     5.98e+03\n",
      "==============================================================================\n",
      "\n",
      "Notes:\n",
      "[1] Standard Errors assume that the covariance matrix of the errors is correctly specified.\n",
      "[2] The condition number is large, 5.98e+03. This might indicate that there are\n",
      "strong multicollinearity or other numerical problems.\n"
     ]
    }
   ],
   "source": [
    "print(modelo.summary())"
   ]
  },
  {
   "cell_type": "code",
   "execution_count": 56,
   "id": "8d094fc8",
   "metadata": {},
   "outputs": [],
   "source": [
    "#El coef es cuanto cambiaria la variable dependiente en caso de que cambie en una unidad la variable independiente. "
   ]
  },
  {
   "cell_type": "code",
   "execution_count": 57,
   "id": "8ace8c87",
   "metadata": {},
   "outputs": [
    {
     "name": "stdout",
     "output_type": "stream",
     "text": [
      "MAPE: 36.03650082709766%\n"
     ]
    }
   ],
   "source": [
    "import numpy as np\n",
    "predicciones = modelo.predict(X)\n",
    "# Calcular MAPE\n",
    "mape = np.mean(np.abs((y - predicciones) / y)) * 100\n",
    "print(f\"MAPE: {mape}%\")"
   ]
  },
  {
   "cell_type": "code",
   "execution_count": 58,
   "id": "47453cd8",
   "metadata": {},
   "outputs": [],
   "source": [
    "#El error mape es la media del error en valor absoluto del valor (actual - predicho) / actual"
   ]
  }
 ],
 "metadata": {
  "kernelspec": {
   "display_name": "Python 3 (ipykernel)",
   "language": "python",
   "name": "python3"
  },
  "language_info": {
   "codemirror_mode": {
    "name": "ipython",
    "version": 3
   },
   "file_extension": ".py",
   "mimetype": "text/x-python",
   "name": "python",
   "nbconvert_exporter": "python",
   "pygments_lexer": "ipython3",
   "version": "3.11.5"
  }
 },
 "nbformat": 4,
 "nbformat_minor": 5
}
